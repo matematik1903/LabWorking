{
 "cells": [
  {
   "cell_type": "code",
   "execution_count": 21,
   "metadata": {},
   "outputs": [],
   "source": [
    "import matplotlib\n",
    "import numpy as np\n",
    "import pandas as pd\n",
    "\n",
    "import struct"
   ]
  },
  {
   "cell_type": "code",
   "execution_count": 22,
   "metadata": {},
   "outputs": [],
   "source": [
    "def read_data(path):\n",
    "    with open(path, \"br\") as bf:\n",
    "        data = np.fromfile(bf, np.float64)\n",
    "    return data\n",
    "\n",
    "\n",
    "def get_Pos_Vel(data, n, t):\n",
    "    a = (t - 1)*(4*n + 1)\n",
    "    b = t*(4*n + 1)\n",
    "    \n",
    "    x = []\n",
    "    y = []\n",
    "    \n",
    "    V_x = []\n",
    "    V_y = []\n",
    "    \n",
    "    i = 0\n",
    "    for d in range(a,b - 1):\n",
    "        if (b - a - i)%4 == 0:\n",
    "            x.append(data[d])\n",
    "        elif (b - a - i + 1)%4 == 0:\n",
    "            y.append(data[d])\n",
    "        elif (b - a - i + 2)%4 == 0:\n",
    "            V_x.append(data[d])\n",
    "        else:\n",
    "            V_y.append(data[d])\n",
    "        i = i + 1\n",
    "    \n",
    "    return [x, y, V_x, V_y]"
   ]
  },
  {
   "cell_type": "code",
   "execution_count": 57,
   "metadata": {},
   "outputs": [
    {
     "name": "stdout",
     "output_type": "stream",
     "text": [
      "lenght:  1642.0\n"
     ]
    }
   ],
   "source": [
    "n = 632\n",
    "path = \"Result/task2/spr_simulation_N_632_phi_0.17_a_5_U0_3e-20_k_0.bin\"\n",
    "\n",
    "data = read_data(path)\n",
    "print(\"lenght: \", len(data) / (632*4 + 1))"
   ]
  },
  {
   "cell_type": "code",
   "execution_count": 58,
   "metadata": {},
   "outputs": [
    {
     "name": "stdout",
     "output_type": "stream",
     "text": [
      "x  [4.275416804620801e-05, 6.2710748863786175e-06, 3.37391723429703e-05, 5.593382163656068e-05]\n",
      "y  [2.56341422333857e-05, 1.6410876243592337e-05, 2.861202100167516e-05, 3.6249832492296586e-05]\n",
      "Velocity x  [-0.0001349374338460267, 0.00010721065530805299, -0.0001095960301049618, -0.00018362351283923362]\n",
      "Velocity y  [0.09899999999999431, 0.00019841131864252337, 6.654883587620716e-05, -0.00028574145619638373]\n"
     ]
    }
   ],
   "source": [
    "x, y, V_x, V_y = get_Pos_Vel(data, n, 100)\n",
    "\n",
    "print(\"x \", x[:4])\n",
    "print(\"y \", y[:4])\n",
    "print(\"Velocity x \", V_x[:4])\n",
    "print(\"Velocity y \", V_y[:4])"
   ]
  },
  {
   "cell_type": "code",
   "execution_count": 63,
   "metadata": {},
   "outputs": [],
   "source": [
    "def transform_to_csv_part2(x, y, V_x, V_y, t):\n",
    "    Data = {'x'+str(i): [x[i]] for i in range(0, n)}\n",
    "    columns = [t]\n",
    "    df_x = pd.DataFrame(Data, columns)\n",
    "\n",
    "    Data = {'y'+str(i): [y[i]] for i in range(0, n)}\n",
    "    columns = [t]\n",
    "    df_y = pd.DataFrame(Data, columns)\n",
    "\n",
    "    Data = {'Vx'+str(i): [V_x[i]] for i in range(0, n)}\n",
    "    columns = [t]\n",
    "    df_Vx = pd.DataFrame(Data, columns)\n",
    "\n",
    "    Data = {'Vy'+str(i): [V_y[i]] for i in range(0, n)}\n",
    "    columns = [t]\n",
    "    df_Vy = pd.DataFrame(Data, columns)\n",
    "\n",
    "    df = pd.merge(df_x, df_y, left_index=True, right_index=True, how='inner');\n",
    "    df = pd.merge(df, df_Vx, left_index=True, right_index=True, how='inner');\n",
    "    df[\"t\"] = t\n",
    "    return pd.merge(df, df_Vy, left_index=True, right_index=True, how='inner');"
   ]
  },
  {
   "cell_type": "code",
   "execution_count": 76,
   "metadata": {},
   "outputs": [],
   "source": [
    "def transform_to_csv(data, n, count):\n",
    "    x, y, V_x, V_y = get_Pos_Vel(data, n, 0)\n",
    "    df = tran_to_csv(x, y, V_x, V_y, 0)\n",
    "\n",
    "    #for i in range(1, len(data):\n",
    "    for i in range(1, count):\n",
    "        x, y, V_x, V_y = get_Pos_Vel(data, n, i)\n",
    "        df_i = tran_to_csv(x, y, V_x, V_y, i)\n",
    "        df =  df.append(df_i)\n",
    "    \n",
    "        if i%10 == 0:\n",
    "            print(\"Progress: \", i, \"%\")\n",
    "    return df"
   ]
  },
  {
   "cell_type": "code",
   "execution_count": 77,
   "metadata": {},
   "outputs": [
    {
     "name": "stdout",
     "output_type": "stream",
     "text": [
      "Progress:  10 %\n",
      "Progress:  20 %\n",
      "Progress:  30 %\n",
      "Progress:  40 %\n",
      "Progress:  50 %\n",
      "Progress:  60 %\n",
      "Progress:  70 %\n",
      "Progress:  80 %\n",
      "Progress:  90 %\n",
      "The data ware saving!\n"
     ]
    }
   ],
   "source": [
    "df =  transform_to_csv(data, n, 100)\n",
    "df.to_csv(\"Experimen_data.csv\")\n",
    "print(\"The data ware saving!\")"
   ]
  },
  {
   "cell_type": "code",
   "execution_count": null,
   "metadata": {},
   "outputs": [],
   "source": []
  }
 ],
 "metadata": {
  "kernelspec": {
   "display_name": "Python 3",
   "language": "python",
   "name": "python3"
  },
  "language_info": {
   "codemirror_mode": {
    "name": "ipython",
    "version": 3
   },
   "file_extension": ".py",
   "mimetype": "text/x-python",
   "name": "python",
   "nbconvert_exporter": "python",
   "pygments_lexer": "ipython3",
   "version": "3.7.1rc1"
  }
 },
 "nbformat": 4,
 "nbformat_minor": 2
}
